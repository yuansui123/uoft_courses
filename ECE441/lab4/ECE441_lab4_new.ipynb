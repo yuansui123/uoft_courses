{
 "cells": [
  {
   "cell_type": "code",
   "execution_count": null,
   "metadata": {
    "id": "hKICseYK50xZ"
   },
   "outputs": [],
   "source": [
    "import pandas as pd\n",
    "import numpy as np\n",
    "import matplotlib.pyplot as plt\n",
    "import mne\n",
    "import scipy.stats as stats\n",
    "import scipy.ndimage as ndimage"
   ]
  },
  {
   "cell_type": "code",
   "execution_count": null,
   "metadata": {
    "id": "Ww44VQ-C-LEZ"
   },
   "outputs": [],
   "source": [
    "df = pd.read_csv(\"rec.txt\", header = 4, index_col=False)\n",
    "name = \"rec.txt\"\n",
    "df = df[[f' EXG Channel {i}' for i in range(8)] + [' Other.2']]\n",
    "channel_names = ['FP1', 'FP2', 'C3', 'C4', 'P7', 'P8', 'O1', 'O2', 'photoresistor']\n",
    "df.columns = channel_names\n",
    "df[['FP1', 'FP2', 'C3', 'C4', 'P7', 'P8', 'O1', 'O2']] *= 1e-6\n",
    "df = df.T"
   ]
  },
  {
   "cell_type": "code",
   "execution_count": null,
   "metadata": {
    "colab": {
     "base_uri": "https://localhost:8080/"
    },
    "id": "u8BRt5C29XeR",
    "outputId": "7d195a2c-6618-460b-fa29-5fd157aa3d8b"
   },
   "outputs": [],
   "source": [
    "info = mne.create_info(channel_names, 250, ch_types=[\"eeg\"]*8 + ['stim'])\n",
    "raw = mne.io.RawArray(df, info);"
   ]
  },
  {
   "cell_type": "code",
   "execution_count": null,
   "metadata": {
    "colab": {
     "base_uri": "https://localhost:8080/"
    },
    "id": "WOR0qA9qCmSl",
    "outputId": "ee6d07bc-65e9-4707-fc2b-4ba1ac7a46cd"
   },
   "outputs": [],
   "source": [
    "events = mne.find_events(raw, stim_channel=\"photoresistor\")\n",
    "mapping = {\n",
    "    1: \"flash\",\n",
    "}\n",
    "annot_from_events = mne.annotations_from_events(\n",
    "    events=events,\n",
    "    event_desc=mapping,\n",
    "    sfreq=raw.info[\"sfreq\"],\n",
    "    orig_time=raw.info[\"meas_date\"],\n",
    ")\n",
    "raw.set_annotations(annot_from_events);"
   ]
  },
  {
   "cell_type": "code",
   "execution_count": null,
   "metadata": {
    "colab": {
     "base_uri": "https://localhost:8080/",
     "height": 850
    },
    "id": "_CVHBYJc9Xgp",
    "outputId": "1baabf2a-ebd3-4251-e8fc-f4b73d3540cf"
   },
   "outputs": [],
   "source": [
    "raw.plot(duration=25, scalings=dict(eeg=200e-6), clipping=None);"
   ]
  },
  {
   "cell_type": "code",
   "execution_count": null,
   "metadata": {
    "colab": {
     "base_uri": "https://localhost:8080/",
     "height": 1000
    },
    "id": "Y6geUYQ--_pY",
    "outputId": "b19280d6-d039-43ab-c354-2f9335d0cd69"
   },
   "outputs": [],
   "source": [
    "raw.notch_filter(60)\n",
    "raw.filter(1,50)"
   ]
  },
  {
   "cell_type": "code",
   "execution_count": null,
   "metadata": {
    "colab": {
     "base_uri": "https://localhost:8080/"
    },
    "id": "jjhJBu2D_RGe",
    "outputId": "007d0d28-f49d-458b-8a0f-90cfa7b923e1"
   },
   "outputs": [],
   "source": [
    "events[:10], events[-5:]"
   ]
  },
  {
   "cell_type": "code",
   "execution_count": null,
   "metadata": {
    "id": "JOc7jREVtl4D"
   },
   "outputs": [],
   "source": [
    "stimulate_start = events[4][0]/250+0.5\n",
    "stimulate_end = events[-1][0]/250+1.0"
   ]
  },
  {
   "cell_type": "code",
   "execution_count": null,
   "metadata": {
    "id": "aNkjLyXy91CU"
   },
   "outputs": [],
   "source": [
    "# stimulate_start = events[5][0]/250+0.5\n",
    "# stimulate_end = events[-2][0]/250+1.0"
   ]
  },
  {
   "cell_type": "code",
   "execution_count": null,
   "metadata": {
    "id": "6cJo7db0Hxcf"
   },
   "outputs": [],
   "source": [
    "raw.crop(tmin=stimulate_start, tmax=stimulate_end);"
   ]
  },
  {
   "cell_type": "code",
   "execution_count": null,
   "metadata": {
    "colab": {
     "base_uri": "https://localhost:8080/",
     "height": 833
    },
    "id": "L4QQ4ApFHmgh",
    "outputId": "f0a2b82e-24f1-4350-97e4-4ec54b068014"
   },
   "outputs": [],
   "source": [
    "raw.plot(duration=200, scalings=dict(eeg=200e-6), clipping=None);"
   ]
  },
  {
   "cell_type": "code",
   "execution_count": null,
   "metadata": {
    "colab": {
     "base_uri": "https://localhost:8080/"
    },
    "id": "nG6KO7TOJKv6",
    "outputId": "6bbf87b1-01ff-476e-9464-12d545ebd29f"
   },
   "outputs": [],
   "source": [
    "events_from_annot, event_dict = mne.events_from_annotations(raw)\n",
    "epochs = mne.Epochs(raw, events=events_from_annot)\n",
    "epochs_data = epochs.get_data()\n",
    "epochs_data.shape"
   ]
  },
  {
   "cell_type": "code",
   "execution_count": null,
   "metadata": {
    "colab": {
     "base_uri": "https://localhost:8080/"
    },
    "id": "4ME4kXrN3mjS",
    "outputId": "4e9242d9-0712-45a6-e20d-c2ae66a0da1c"
   },
   "outputs": [],
   "source": [
    "epochs.load_data()\n",
    "baseline_epochs = epochs.copy().crop(tmin=-0.2, tmax=0.0)\n",
    "baseline_data = baseline_epochs.get_data()\n",
    "baseline_data.shape"
   ]
  },
  {
   "cell_type": "code",
   "execution_count": null,
   "metadata": {
    "id": "Y-m_hBP531_D"
   },
   "outputs": [],
   "source": [
    "baseline_mean = baseline_data.mean(axis=2, keepdims=True)\n",
    "baseline_std = baseline_data.std(axis=2, keepdims=True)\n",
    "epochs_data = (epochs_data - baseline_mean) / baseline_std"
   ]
  },
  {
   "cell_type": "code",
   "execution_count": null,
   "metadata": {
    "id": "EnV8AWbAHXsR"
   },
   "outputs": [],
   "source": [
    "mask = pd.read_csv('circle_mask.csv', header=None).values.flatten()\n",
    "mask.shape\n",
    "circles_array = epochs_data[mask == 1][:, :8, :]\n",
    "squares_array = epochs_data[mask == 0][:, :8, :]\n",
    "print(\"circles array\",circles_array.shape)\n",
    "print(\"square array\",squares_array.shape)"
   ]
  },
  {
   "cell_type": "code",
   "execution_count": null,
   "metadata": {
    "colab": {
     "base_uri": "https://localhost:8080/",
     "height": 807
    },
    "id": "VNojQpXze1bz",
    "outputId": "f1af8bcc-fbc6-47ef-d9fb-30d7cef7034b"
   },
   "outputs": [],
   "source": [
    "# plot function\n",
    "def plot(data_array, title=\"test\"):\n",
    "    times = np.arange(data_array.shape[1]) / 250\n",
    "\n",
    "    plt.figure(figsize=(10, 8))\n",
    "    n_channels = data_array.shape[0]\n",
    "\n",
    "    for ch in range(n_channels):\n",
    "        plt.plot(times, data_array[::-1][ch] + ch * 5)\n",
    "\n",
    "    plt.title(title, fontsize= 22)\n",
    "    plt.xlabel('Time (s)')\n",
    "    plt.yticks(ticks=np.arange(n_channels) * 5, labels=channel_names[:-1][::-1])\n",
    "    plt.tight_layout()\n",
    "    plt.show()\n",
    "\n",
    "plot(circles_array[11])\n",
    "plot(squares_array[11])"
   ]
  },
  {
   "cell_type": "code",
   "execution_count": null,
   "metadata": {
    "id": "wFb2P53CiTaH"
   },
   "outputs": [],
   "source": [
    "t_stats, p_values = stats.ttest_ind(circles_array, squares_array)\n",
    "sig_p_values = p_values < 0.05\n",
    "plot(np.abs(p_values), title=name+\": P value\")\n",
    "plot(sig_p_values, title=name+\": Significant P value\")\n",
    "print(\"tstate\", t_stats.shape)\n",
    "print(\"pvalue\", sig_p_values.shape)"
   ]
  },
  {
   "cell_type": "code",
   "execution_count": null,
   "metadata": {
    "colab": {
     "base_uri": "https://localhost:8080/",
     "height": 807
    },
    "id": "i1Gy7XyHWG_D",
    "outputId": "23ab5a22-05e5-4ece-f67b-33762da3bb05"
   },
   "outputs": [],
   "source": [
    "cluster_locations = []\n",
    "for k, channel_p_vals in enumerate(sig_p_values):\n",
    "    clusters, num_clusters = ndimage.label(channel_p_vals)\n",
    "    max_cluster_size = 0\n",
    "    max_cluster_label = None\n",
    "    for i in range(1, num_clusters + 1):\n",
    "\n",
    "        # Find indices where array1 has the value equal to `number_of_interest`\n",
    "        indices = np.where(clusters == i)[0]\n",
    "\n",
    "        # Sum the corresponding values in array2 at those indices\n",
    "        sum_of_values = np.abs(t_stats[k][indices].sum())\n",
    "        # cluster_size = np.sum(clusters == i)\n",
    "        cluster_size = sum_of_values\n",
    "        \n",
    "        print(\"new\", cluster_size)\n",
    "        if cluster_size > max_cluster_size:\n",
    "            max_cluster_size = cluster_size\n",
    "            max_cluster_label = i\n",
    "    if max_cluster_label:\n",
    "        print(max_cluster_label)\n",
    "        cluster_locations.append(clusters == max_cluster_label)\n",
    "    else:\n",
    "        cluster_locations.append(np.zeros_like(clusters))\n",
    "cluster_locations = np.array(cluster_locations)\n",
    "new_sig_p_values = np.copy(sig_p_values)\n",
    "for i in range(len(new_sig_p_values)):\n",
    "    new_sig_p_values[i] = new_sig_p_values[i] * cluster_locations[i]\n",
    "plot(new_sig_p_values, title=name+ \": Significant P value cluster\")"
   ]
  },
  {
   "cell_type": "code",
   "execution_count": null,
   "metadata": {
    "colab": {
     "base_uri": "https://localhost:8080/"
    },
    "id": "A5SKlxRw5Jsl",
    "outputId": "dd77b469-97ae-4f78-914b-e1cc968092ce"
   },
   "outputs": [],
   "source": [
    "def single_test(dataset_a, dataset_b):\n",
    "    t_stats, p_values = stats.ttest_ind(dataset_a, dataset_b)\n",
    "    t_stats = np.abs(t_stats)\n",
    "    sig_p_values = p_values < 0.05\n",
    "    clus_tstat = []\n",
    "    for k, channel_p_vals in enumerate(sig_p_values):\n",
    "        clusters, num_clusters = ndimage.label(channel_p_vals)\n",
    "        max_cluster_size = 0\n",
    "        max_cluster_label = None\n",
    "        for i in range(1, num_clusters + 1):\n",
    "            # Find indices where array1 has the value equal to `number_of_interest`\n",
    "            indices = np.where(clusters == i)[0]\n",
    "\n",
    "            # Sum the corresponding values in array2 at those indices\n",
    "            sum_of_values = t_stats[k][indices].sum()\n",
    "            # cluster_size = np.sum(clusters == i)\n",
    "            cluster_size = sum_of_values\n",
    "            print(\"new\", cluster_size)\n",
    "            if cluster_size > max_cluster_size:\n",
    "                max_cluster_size = cluster_size\n",
    "                max_cluster_label = i\n",
    "        if max_cluster_label:\n",
    "            print(max_cluster_label)\n",
    "            largest_cluster_indices = np.where(clusters == max_cluster_label)[0]\n",
    "            clus_tstat.append(np.sum(t_stats[k][largest_cluster_indices]))\n",
    "        else:\n",
    "            clus_tstat.append(0)\n",
    "    return np.array(clus_tstat)\n",
    "\n",
    "single_test(circles_array, squares_array)"
   ]
  },
  {
   "cell_type": "code",
   "execution_count": null,
   "metadata": {
    "colab": {
     "base_uri": "https://localhost:8080/"
    },
    "id": "ubpOSuJe-wZ8",
    "outputId": "ab0c050c-e33b-4ba4-f4d9-7a03eb968025"
   },
   "outputs": [],
   "source": [
    "def nonparametric_test(dataset_a, dataset_b, n_perm=1000):\n",
    "    real_cluster_stats = single_test(dataset_a, dataset_b)\n",
    "    random_higher_count = np.zeros((len(real_cluster_stats),))\n",
    "    combined_data = np.concatenate([dataset_a, dataset_b], axis=0)\n",
    "\n",
    "    for i in range(n_perm):\n",
    "        np.random.shuffle(combined_data)\n",
    "        perm_a = combined_data[:dataset_a.shape[0]]\n",
    "        perm_b = combined_data[dataset_a.shape[0]:]\n",
    "\n",
    "        random_cluster_stats = single_test(perm_a, perm_b)\n",
    "        random_higher_count += random_cluster_stats > real_cluster_stats\n",
    "\n",
    "    random_higher_count /= n_perm\n",
    "    return random_higher_count\n",
    "\n",
    "nonparametric_p_values = nonparametric_test(circles_array, squares_array)\n",
    "print(nonparametric_p_values)"
   ]
  },
  {
   "cell_type": "code",
   "execution_count": null,
   "metadata": {
    "id": "FlCRfx0vCyA-"
   },
   "outputs": [],
   "source": [
    "for i in range(len(nonparametric_p_values)):\n",
    "    if nonparametric_p_values[i] < 0.05:\n",
    "        x = np.arange(circles_array.shape[2]) / 250\n",
    "        circles = np.mean(circles_array[:,i,:], axis = 0)\n",
    "        squares = np.mean(squares_array[:,i,:], axis = 0)\n",
    "        mini = np.concatenate((circles, squares)).min()\n",
    "        maxi = np.concatenate((circles, squares)).max()\n",
    "        mask = cluster_locations[i]\n",
    "        masked_time = np.extract(mask, x)\n",
    "\n",
    "        fig, ax = plt.subplots(figsize=(10, 4))\n",
    "        ax.plot(x, circles, color='red', label='Circles')\n",
    "        ax.plot(x, squares, color='blue', label='Squares')\n",
    "        ax.fill_between(x, mini, maxi, where=mask, color='blue', alpha=0.2)\n",
    "        ax.plot(masked_time, np.full(masked_time.shape, mini*1.1), color='blue')\n",
    "        ax.text(masked_time.mean(), mini*1.2, '**', ha='center', color='blue')\n",
    "        ax.set_ylim([mini*1.3, maxi*1.3])\n",
    "\n",
    "        ax.set_title(f\"Channel {channel_names[i]}\")\n",
    "        ax.set_xlabel(\"Time (s)\")\n",
    "        ax.set_ylabel(\"Voltage\")\n",
    "        ax.legend(loc='best')\n",
    "        plt.tight_layout()\n",
    "        plt.show()"
   ]
  },
  {
   "cell_type": "code",
   "execution_count": null,
   "metadata": {},
   "outputs": [],
   "source": [
    "import numpy as np\n",
    "import matplotlib.pyplot as plt\n",
    "\n",
    "for i in range(len(nonparametric_p_values)):\n",
    "    if nonparametric_p_values[i] < 0.05:\n",
    "        x = np.arange(circles_array.shape[2]) / 250  # Time vector assuming 250 Hz sample rate\n",
    "        circles_mean = np.mean(circles_array[:, i, :], axis=0)\n",
    "        squares_mean = np.mean(squares_array[:, i, :], axis=0)\n",
    "        \n",
    "        # Find the min and max across mean curves\n",
    "        mini = np.min([circles_mean.min(), squares_mean.min()])\n",
    "        maxi = np.max([circles_mean.max(), squares_mean.max()])\n",
    "        \n",
    "        mask = cluster_locations[i]  # Boolean array indicating significant time points\n",
    "        masked_time = np.extract(mask, x)  # Extract time points within the mask\n",
    "\n",
    "        fig, ax = plt.subplots(figsize=(10, 4))\n",
    "        \n",
    "        # Plot each epoch with low opacity for circles\n",
    "        for epoch in range(circles_array.shape[0]):\n",
    "            ax.plot(x, circles_array[epoch, i, :], color='red', alpha=0.1)\n",
    "        \n",
    "        # Plot each epoch with low opacity for squares\n",
    "        for epoch in range(squares_array.shape[0]):\n",
    "            ax.plot(x, squares_array[epoch, i, :], color='blue', alpha=0.1)\n",
    "        \n",
    "        # Plot the mean curves with higher opacity\n",
    "        ax.plot(x, circles_mean, color='red', label='Circles (mean)', linewidth=2)\n",
    "        ax.plot(x, squares_mean, color='blue', label='Squares (mean)', linewidth=2)\n",
    "        \n",
    "        # Highlight the significant cluster region\n",
    "        ax.fill_between(x, mini, maxi, where=mask, color='yellow', alpha=0.2)\n",
    "        \n",
    "        # Plot markers for the significant regions\n",
    "        ax.plot(masked_time, np.full(masked_time.shape, mini * 1.1), color='black')\n",
    "        ax.text(masked_time.mean(), mini * 1.2, 'p-value < 0.05', ha='center', color='black')\n",
    "        \n",
    "        # Set axis limits and labels\n",
    "        ax.set_ylim([mini * 2, maxi * 2])\n",
    "        ax.set_title(f\"Channel {channel_names[i]}\")\n",
    "        ax.set_xlabel(\"Time (s)\")\n",
    "        ax.set_ylabel(\"Voltage\")\n",
    "        ax.legend(loc='best')\n",
    "        \n",
    "        plt.tight_layout()\n",
    "        plt.show()\n"
   ]
  },
  {
   "cell_type": "code",
   "execution_count": null,
   "metadata": {},
   "outputs": [],
   "source": [
    "import matplotlib.pyplot as plt\n",
    "import numpy as np\n",
    "\n",
    "# Define the two arrays\n",
    "array1 = [0.08, 0.123, 0.883, 0.631, 0.62, 0.595, 0.355, 0.113]\n",
    "array2 = [0.01, 0.075, 0.808, 0.435, 0.004, 0.539, 0.009, 0.01]\n",
    "\n",
    "# X-axis labels\n",
    "x_labels = ['FP1', 'FP2', 'C3', 'C4', 'P7', 'P8', 'O1', 'O2']\n",
    "\n",
    "# Create the plot\n",
    "plt.scatter(x_labels, array1, color='blue', marker='o', label='serena.txt')\n",
    "plt.scatter(x_labels, array2, color='red', marker='s', label='rec.txt')\n",
    "\n",
    "# Add horizontal threshold line at y = 0.05\n",
    "plt.axhline(y=0.05, color='black', linestyle='--', label='Threshold p value')\n",
    "\n",
    "# Customize the plot\n",
    "plt.xlabel('Electrode Positions')\n",
    "plt.ylabel('Y-axis Values')\n",
    "plt.title('Comparison of Permutation p value')\n",
    "plt.xticks(rotation=45)  # Rotate x-axis labels for better readability\n",
    "plt.legend()\n",
    "\n",
    "# Show the plot\n",
    "plt.grid(True)\n",
    "plt.tight_layout()\n",
    "plt.show()\n"
   ]
  },
  {
   "cell_type": "code",
   "execution_count": null,
   "metadata": {},
   "outputs": [],
   "source": [
    "array3 = [35.211529  ,  9.75121599,  0.        ,  4.37948698,  4.48486604, 4.32260611,  6.80706734, 38.3472498 ]\n",
    "array4 = [71.14524665, 32.67792665,  0.        ,  4.45816464, 37.01702678, 6.49059886, 24.403684  , 30.94423345]\n",
    "\n",
    "# X-axis labels\n",
    "x_labels = ['FP1', 'FP2', 'C3', 'C4', 'P7', 'P8', 'O1', 'O2']\n",
    "\n",
    "# Create the plot\n",
    "plt.plot(x_labels, array3, color='blue', marker='o', label='serena.txt')\n",
    "plt.plot(x_labels, array4, color='red', marker='s', label='rec.txt')\n",
    "\n",
    "# Customize the plot\n",
    "plt.xlabel('Electrode Positions')\n",
    "plt.ylabel('Y-axis Values')\n",
    "plt.title('Comparison of Nonparametric t stats sum')\n",
    "plt.xticks(rotation=45)  # Rotate x-axis labels for better readability\n",
    "plt.legend()\n",
    "\n",
    "# Show the plot\n",
    "plt.grid(True)\n",
    "plt.tight_layout()\n",
    "plt.show()\n"
   ]
  }
 ],
 "metadata": {
  "colab": {
   "provenance": []
  },
  "kernelspec": {
   "display_name": "pain_study",
   "language": "python",
   "name": "python3"
  },
  "language_info": {
   "codemirror_mode": {
    "name": "ipython",
    "version": 3
   },
   "file_extension": ".py",
   "mimetype": "text/x-python",
   "name": "python",
   "nbconvert_exporter": "python",
   "pygments_lexer": "ipython3",
   "version": "3.12.3"
  }
 },
 "nbformat": 4,
 "nbformat_minor": 4
}
